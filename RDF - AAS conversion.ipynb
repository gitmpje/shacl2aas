{
 "cells": [
  {
   "cell_type": "markdown",
   "metadata": {},
   "source": [
    "# Construct AAS (template) from SHACL Shapes graph"
   ]
  },
  {
   "cell_type": "code",
   "execution_count": 1,
   "metadata": {},
   "outputs": [],
   "source": [
    "from rdflib import BNode, ConjunctiveGraph, Dataset, Graph, URIRef\n",
    "from pyshacl import validate"
   ]
  },
  {
   "cell_type": "code",
   "execution_count": 2,
   "metadata": {},
   "outputs": [],
   "source": [
    "prefixes = {\n",
    "    'prov': 'http://www.w3.org/ns/prov#',\n",
    "    'mas4ai': 'http://example.org/MAS4AI_GenericModel#',\n",
    "    'aas': 'https://admin-shell.io/aas/3/0/RC01/',\n",
    "    'aasenv': 'https://admin-shell.io/aas/3/0/RC01/AssetAdministrationShellEnvironment/',\n",
    "    'aasaas': 'https://admin-shell.io/aas/3/0/RC01/AssetAdministrationShell/',\n",
    "    'aassm': 'https://admin-shell.io/aas/3/0/RC01/Submodel/',\n",
    "    'aassmc': 'https://admin-shell.io/aas/3/0/RC01/SubmodelElementCollection/',\n",
    "    'aasrefer': 'https://admin-shell.io/aas/3/0/RC01/Referable/',\n",
    "    'aasrel': 'https://admin-shell.io/aas/3/0/RC01/RelationshipElement/',\n",
    "    'aasdata': 'https://admin-shell.io/aas/3/0/RC01/HasDataSpecification/',\n",
    "    'aasprop': 'https://admin-shell.io/aas/3/0/RC01/Property/',\n",
    "    'aasrange': 'https://admin-shell.io/aas/3/0/RC01/Range/',\n",
    "    'aassem': 'https://admin-shell.io/aas/3/0/RC01/HasSemantics/',\n",
    "    'aasref': 'https://admin-shell.io/aas/3/0/RC01/Reference/',\n",
    "    'aaskey': 'https://admin-shell.io/aas/3/0/RC01/Key/',\n",
    "    'aasida': 'https://admin-shell.io/aas/3/0/RC01/Identifiable/',\n",
    "    'aaside': 'https://admin-shell.io/aas/3/0/RC01/Identifier/',\n",
    "    'aaskeyt': 'https://admin-shell.io/aas/3/0/RC01/KeyType/',\n",
    "    'aaskind': 'https://admin-shell.io/aas/3/0/RC01/HasKind/',\n",
    "    'aasmod': 'https://admin-shell.io/aas/3/0/RC01/ModelingKind/'\n",
    "}\n",
    "\n",
    "def add_prefixes(graph):\n",
    "    for k,v in prefixes.items():\n",
    "        graph.namespace_manager.bind(k, URIRef(v))"
   ]
  },
  {
   "cell_type": "markdown",
   "metadata": {},
   "source": [
    "Questions:\n",
    "* How to determine what resource to model as what type of AAS element?\n",
    "* How to determine what should be modelled as an aas:ReferenceElement vs an aas:SubmodelCollection?\n",
    "    * If more than one relation of the same type? -> allows to construct for example 'Jobs' SubmodelCollection, but not to model coordinates as a submodel collection."
   ]
  },
  {
   "cell_type": "markdown",
   "metadata": {},
   "source": [
    "Assumptions/modelling choices:\n",
    "* Input should include definition of what `sh:NodeShape` to map to `aas:AssetAdministrationShell` (and `aas:Submodel`?);\n",
    "* Use semantic ids to relate all AAS components together (so first construct all basic components and add relations afterwards)?"
   ]
  },
  {
   "cell_type": "markdown",
   "metadata": {},
   "source": [
    "## Initialize data model/graph"
   ]
  },
  {
   "cell_type": "code",
   "execution_count": 13,
   "metadata": {},
   "outputs": [],
   "source": [
    "dataset = Dataset()\n",
    "\n",
    "g_sh = dataset.graph(identifier=URIRef('http://mas4ai.eu/id/graph/shapesGraph'))\n",
    "g_sh.parse('examples/Example_ServoDCMotor.shape.ttl')\n",
    "\n",
    "g_AAS_ont = dataset.graph(identifier=URIRef('https://admin-shell.io/aas/3/0/RC01/'))\n",
    "g_AAS_ont.parse('https://raw.githubusercontent.com/admin-shell-io/aas-specs/master/schemas/rdf/rdf-ontology.ttl', format='text/turtle')\n",
    "\n",
    "g_AAS = dataset.graph(identifier=URIRef('http://mas4ai.eu/id/graph/aas'))\n",
    "\n",
    "g_conj = ConjunctiveGraph(dataset.store)\n",
    "\n",
    "aas_classes = [\n",
    "    'http://example.org/ServoDCMotor'\n",
    "]\n",
    "\n",
    "for c in aas_classes:\n",
    "    g_sh.add((URIRef(c), URIRef('http://example.org/MAS4AI_GenericModel#hasInterface'), BNode()))"
   ]
  },
  {
   "cell_type": "markdown",
   "metadata": {},
   "source": [
    "## Construct AAS components\n",
    "* Construct components, starting from the lowest level.\n",
    "* Add (temporary) provenance data (`prov:wasDerivedFrom`) that can be used to link the different AAS components."
   ]
  },
  {
   "cell_type": "markdown",
   "metadata": {},
   "source": [
    "### Property\n",
    "* The `sh:path` of a `sh:PropertyShape` should be mapped to the `aassem:semanticId` reference;\n",
    "* A `sh:PropertyShape` without a `sh:class` is an `aas:Property`."
   ]
  },
  {
   "cell_type": "code",
   "execution_count": 14,
   "metadata": {},
   "outputs": [
    {
     "data": {
      "text/plain": [
       "<Graph identifier=http://mas4ai.eu/id/graph/aas (<class 'rdflib.graph.Graph'>)>"
      ]
     },
     "execution_count": 14,
     "metadata": {},
     "output_type": "execute_result"
    }
   ],
   "source": [
    "add_prefixes(dataset)\n",
    "\n",
    "g_AAS.parse(data=g_sh.query('''\n",
    "CONSTRUCT {\n",
    "  # Property\n",
    "  ?Property_iri a aas:Property ;\n",
    "    aasprop:valueType ?dataType ;\n",
    "    aassem:semanticId [\n",
    "      a aas:Reference ;\n",
    "      aasref:key [\n",
    "        a aas:Key ;\n",
    "        aaskey:idType aaskeyt:IRI ;\n",
    "        aaskey:value ?Property ;\n",
    "      ] ;\n",
    "    ] ;\n",
    "    prov:wasDerivedFrom ?PropertyShape ;\n",
    "  .\n",
    "}\n",
    "WHERE {\n",
    "  ?PropertyShape a sh:PropertyShape ;\n",
    "    rdfs:label ?idShort ;\n",
    "    sh:path ?Property ;\n",
    "    sh:datatype ?dataType ;\n",
    "  .\n",
    "  OPTIONAL { ?PropertyShape rdfs:comment ?description }\n",
    "\n",
    "  FILTER NOT EXISTS { ?PropertyShape sh:class ?Class } #filter out reference properties\n",
    "\n",
    "  BIND(iri(concat( \"http://mas4ai.eu/id/property/\", strafter(str(uuid()), \"urn:uuid:\") )) as ?Property_iri)\n",
    "}\n",
    "''').graph.serialize())"
   ]
  },
  {
   "cell_type": "markdown",
   "metadata": {},
   "source": [
    "### ReferenceElement\n",
    "* A `sh:PropertyShape` that has a `sh:class`, is mapped to a `aas:ReferenceElement`."
   ]
  },
  {
   "cell_type": "code",
   "execution_count": 15,
   "metadata": {},
   "outputs": [
    {
     "data": {
      "text/plain": [
       "<Graph identifier=http://mas4ai.eu/id/graph/aas (<class 'rdflib.graph.Graph'>)>"
      ]
     },
     "execution_count": 15,
     "metadata": {},
     "output_type": "execute_result"
    }
   ],
   "source": [
    "add_prefixes(dataset)\n",
    "\n",
    "g_AAS.parse(data=g_sh.query('''\n",
    "BASE <http://mas4ai.eu/id/WP4/>\n",
    "\n",
    "CONSTRUCT {\n",
    "  # Reference Element\n",
    "  ?ReferenceElement_iri a aas:ReferenceElement ;\n",
    "    aasprop:valueType ?dataType ;\n",
    "    aassem:semanticId [\n",
    "      a aas:Reference ;\n",
    "      aasref:key [\n",
    "        a aas:Key ;\n",
    "        aaskey:idType aaskeyt:IRI ;\n",
    "        aaskey:value ?ReferenceElement ;\n",
    "      ] ;\n",
    "    ] ;\n",
    "    prov:wasDerivedFrom ?PropertyShape ;\n",
    "  .\n",
    "}\n",
    "WHERE {\n",
    "  ?PropertyShape a sh:PropertyShape ;\n",
    "    rdfs:label ?idShort ;\n",
    "    sh:path ?ReferenceElement ;\n",
    "    sh:class ?Class ; #filter on reference properties\n",
    "  .\n",
    "\n",
    "  FILTER EXISTS {?Class mas4ai:hasInterface []} #otherwise it should be a SMC\n",
    "\n",
    "  BIND(iri(concat( \"http://mas4ai.eu/id/referenceElement/\", strafter(str(uuid()), \"urn:uuid:\") )) as ?ReferenceElement_iri)\n",
    "}\n",
    "''').graph.serialize())"
   ]
  },
  {
   "cell_type": "markdown",
   "metadata": {},
   "source": [
    "### Submodel Element Collection\n",
    "* A `sh:PropertyShape` with `sh:maxCount > 1` should be embedded in an `aas:SubmodelElementCollection` (for example jobs) ('PropertyCollection');\n",
    "* A `sh:NodeShape` of which the related `sh:targetClass` does not have `mas4ai:hasInterface` should be mapped to a `aas:SubmodelElementCollection` (Collection of Properties)."
   ]
  },
  {
   "cell_type": "markdown",
   "metadata": {},
   "source": [
    "#### PropertyCollection"
   ]
  },
  {
   "cell_type": "code",
   "execution_count": 16,
   "metadata": {},
   "outputs": [
    {
     "data": {
      "text/plain": [
       "<Graph identifier=http://mas4ai.eu/id/graph/aas (<class 'rdflib.graph.Graph'>)>"
      ]
     },
     "execution_count": 16,
     "metadata": {},
     "output_type": "execute_result"
    }
   ],
   "source": [
    "add_prefixes(dataset)\n",
    "\n",
    "g_AAS.parse(data=g_sh.query('''\n",
    "CONSTRUCT {\n",
    "  # Submodel Element Collection (SMC)\n",
    "  ?SMC_iri a aas:SubmodelElementCollection ;\n",
    "    aaskind:kind aasmod:TEMPLATE ;\n",
    "    aasrefer:idShort ?SMCidShort  ;\n",
    "    prov:wasDerivedFrom ?PropertyShape ;\n",
    "  .\n",
    "}\n",
    "WHERE {\n",
    "  {\n",
    "    ?PropertyShape a sh:PropertyShape ;\n",
    "      rdfs:label ?propertyLabel ;\n",
    "      sh:path ?Property ;\n",
    "      sh:maxCount ?maxCount ;\n",
    "    .\n",
    "    FILTER( ?maxCount > 1 )\n",
    "  } UNION {\n",
    "    ?PropertyShape a sh:PropertyShape ;\n",
    "      rdfs:label ?propertyLabel ;\n",
    "      sh:path ?Property ;\n",
    "    .\n",
    "    FILTER NOT EXISTS { ?PropertyShape sh:maxCount [] } #if sh:maxCount>1 or not defined then embed the property in an ElementCollection\n",
    "  }\n",
    "\n",
    "  BIND(iri(concat( \"http://mas4ai.eu/id/smc/\", strafter(str(uuid()), \"urn:uuid:\") )) as ?SMC_iri)\n",
    "  BIND(concat(?propertyLabel, 's') as ?SMC_idShort)\n",
    "}\n",
    "''').graph.serialize())"
   ]
  },
  {
   "cell_type": "markdown",
   "metadata": {},
   "source": [
    "#### CollectionProperty"
   ]
  },
  {
   "cell_type": "code",
   "execution_count": 17,
   "metadata": {},
   "outputs": [
    {
     "data": {
      "text/plain": [
       "<Graph identifier=http://mas4ai.eu/id/graph/aas (<class 'rdflib.graph.Graph'>)>"
      ]
     },
     "execution_count": 17,
     "metadata": {},
     "output_type": "execute_result"
    }
   ],
   "source": [
    "add_prefixes(dataset)\n",
    "\n",
    "g_AAS.parse(data=g_sh.query('''\n",
    "CONSTRUCT {\n",
    "  # Submodel Element Collection (SMC)\n",
    "  ?SMC_iri a aas:SubmodelElementCollection ;\n",
    "#    aassem:semanticId [\n",
    "#      a aas:Reference ;\n",
    "#      aasref:key [\n",
    "#        a aas:Key ;\n",
    "#        aaskey:idType aaskeyt:IRI ;\n",
    "#        aaskey:value ?Property ;\n",
    "#      ] ;\n",
    "#    ] ;\n",
    "    prov:wasDerivedFrom ?NodeShape ;\n",
    "  .\n",
    "}\n",
    "WHERE {\n",
    "  ?NodeShape a sh:NodeShape ;\n",
    "    rdfs:label ?idShort ;\n",
    "    sh:targetClass ?Class ;\n",
    "  .\n",
    "\n",
    "  FILTER EXISTS {?NodeShape sh:property []}\n",
    "  FILTER NOT EXISTS {?Class mas4ai:hasInterface []}\n",
    "\n",
    "  BIND(iri(concat( \"http://mas4ai.eu/id/smc/\", strafter(str(uuid()), \"urn:uuid:\") )) as ?SMC_iri)\n",
    "}\n",
    "''').graph.serialize())"
   ]
  },
  {
   "cell_type": "markdown",
   "metadata": {},
   "source": [
    "##### Relation between SMCs and properties + reference elements"
   ]
  },
  {
   "cell_type": "code",
   "execution_count": 18,
   "metadata": {},
   "outputs": [],
   "source": [
    "add_prefixes(dataset)\n",
    "\n",
    "g_conj.update('''\n",
    "INSERT {\n",
    "  GRAPH <http://mas4ai.eu/id/graph/aas> {\n",
    "    ?SMC aassmc:value ?Value .\n",
    "  }\n",
    "}\n",
    "WHERE {\n",
    "  {\n",
    "    ?SMC a aas:SubmodelElementCollection ;\n",
    "      prov:wasDerivedFrom/sh:property ?PropertyShape .\n",
    "\n",
    "    VALUES ?ValueType {aas:Property aas:ReferenceElement}\n",
    "    ?Value a ?ValueType ;\n",
    "      prov:wasDerivedFrom ?PropertyShape .\n",
    "  } UNION {\n",
    "    ?SMC a aas:SubmodelElementCollection ;\n",
    "      prov:wasDerivedFrom ?PropertyShape .\n",
    "    ?PropertyShape a sh:PropertyShape .\n",
    "    ?Value prov:wasDerivedFrom ?PropertyShape .\n",
    "  }\n",
    "}\n",
    "''')"
   ]
  },
  {
   "cell_type": "markdown",
   "metadata": {},
   "source": [
    "### Submodel\n",
    "* A `sh:PropertyGroup` is converted to an `aas:Submodel` and embeds all resources of type `sh:PropertyShape` that are linked to the `sh:PropertyGroup` via `sh:group`."
   ]
  },
  {
   "cell_type": "code",
   "execution_count": 19,
   "metadata": {},
   "outputs": [
    {
     "data": {
      "text/plain": [
       "<Graph identifier=http://mas4ai.eu/id/graph/aas (<class 'rdflib.graph.Graph'>)>"
      ]
     },
     "execution_count": 19,
     "metadata": {},
     "output_type": "execute_result"
    }
   ],
   "source": [
    "add_prefixes(dataset)\n",
    "\n",
    "g_AAS.parse(data=g_sh.query('''\n",
    "CONSTRUCT {\n",
    "  # Submodel (SM)\n",
    "  ?SM_iri a aas:Submodel ;\n",
    "    prov:wasDerivedFrom ?PropertyGroup, ?PropertyShape ;\n",
    "  .\n",
    "\n",
    "#    aasida:identification [\n",
    "#      a aas:Identifier ;\n",
    "#      aaside:idType aaskeyt:IRI ;\n",
    "#      aaside:identifier ?SM ;\n",
    "#    ]\n",
    "\n",
    "}\n",
    "WHERE {\n",
    "  {\n",
    "    ?PropertyGroup a sh:PropertyGroup ;\n",
    "      rdfs:label ?idShort ;\n",
    "    .\n",
    "  } UNION {\n",
    "    ?PropertyShape a sh:PropertyShape ;\n",
    "      rdfs:label ?idShort ;\n",
    "      ^sh:property/sh:targetClass/mas4ai:hasInterface [] ; # only properties that are directly related to a class that requires an AAS\n",
    "    .\n",
    "    FILTER NOT EXISTS {?PropertyShape sh:group []}\n",
    "  }\n",
    "\n",
    "    BIND(iri(concat( \"http://mas4ai.eu/id/sm/\", strafter(str(uuid()), \"urn:uuid:\") )) as ?SM_iri)\n",
    "}\n",
    "''').graph.serialize())"
   ]
  },
  {
   "cell_type": "markdown",
   "metadata": {},
   "source": [
    "##### Relation between submodels and properties + submodel element collections"
   ]
  },
  {
   "cell_type": "code",
   "execution_count": 20,
   "metadata": {},
   "outputs": [],
   "source": [
    "add_prefixes(dataset)\n",
    "\n",
    "g_conj.update('''\n",
    "INSERT {\n",
    "  GRAPH <http://mas4ai.eu/id/graph/aas> {\n",
    "    ?Submodel aassm:submodelElement ?SubmodelElement .\n",
    "  }\n",
    "}\n",
    "WHERE {\n",
    "  {\n",
    "    ?Submodel a aas:Submodel ;\n",
    "      prov:wasDerivedFrom/^sh:group ?PropertyShape .\n",
    "\n",
    "    ?SubmodelElement a aas:Property ;\n",
    "      prov:wasDerivedFrom ?PropertyShape .\n",
    "  } UNION {\n",
    "    ?Submodel a aas:Submodel ;\n",
    "      prov:wasDerivedFrom/^sh:group? ?PropertyShape .\n",
    "\n",
    "    ?PropertyShape a sh:PropertyShape ;\n",
    "      sh:class/^sh:targetClass ?NodeShape .\n",
    "\n",
    "    ?SubmodelElement a aas:SubmodelElementCollection ;\n",
    "      prov:wasDerivedFrom ?NodeShape .\n",
    "  }\n",
    "}\n",
    "''')"
   ]
  },
  {
   "cell_type": "markdown",
   "metadata": {},
   "source": [
    "### AssetAdministrationShell"
   ]
  },
  {
   "cell_type": "code",
   "execution_count": 21,
   "metadata": {},
   "outputs": [
    {
     "data": {
      "text/plain": [
       "<Graph identifier=http://mas4ai.eu/id/graph/aas (<class 'rdflib.graph.Graph'>)>"
      ]
     },
     "execution_count": 21,
     "metadata": {},
     "output_type": "execute_result"
    }
   ],
   "source": [
    "add_prefixes(dataset)\n",
    "\n",
    "g_AAS.parse(data=g_sh.query('''\n",
    "CONSTRUCT {\n",
    "  # Asset Administration Shell (AAS)\n",
    "  ?AAS_iri a aas:AssetAdministrationShell ;\n",
    "    aassem:semanticId [\n",
    "      a aas:Reference ;\n",
    "      aasref:key [\n",
    "        a aas:Key ;\n",
    "        aaskey:idType aaskeyt:IRI ;\n",
    "        aaskey:value ?AASClass ;\n",
    "      ] ;\n",
    "    ] ;\n",
    "    prov:wasDerivedFrom ?NodeShape ;\n",
    "  .\n",
    "}\n",
    "WHERE {\n",
    "  ?NodeShape a sh:NodeShape ;\n",
    "    rdfs:label ?idShort ;\n",
    "    sh:targetClass ?AASClass ;\n",
    "  .\n",
    "\n",
    "  ?AASClass mas4ai:hasInterface [] .\n",
    "\n",
    "  BIND(iri(concat(str(?AASClass), '_', 'aas')) as ?AAS) #temporarily\n",
    "  BIND(iri(concat( \"http://mas4ai.eu/id/aas/\", strafter(str(uuid()), \"urn:uuid:\") )) as ?AAS_iri)\n",
    "}\n",
    "''').graph.serialize())"
   ]
  },
  {
   "cell_type": "markdown",
   "metadata": {},
   "source": [
    "##### Relations between asset administration shell and submodels"
   ]
  },
  {
   "cell_type": "code",
   "execution_count": 22,
   "metadata": {},
   "outputs": [],
   "source": [
    "add_prefixes(dataset)\n",
    "\n",
    "g_conj.update('''\n",
    "INSERT {\n",
    "  GRAPH <http://mas4ai.eu/id/graph/aas> {\n",
    "    ?AAS aasaas:submodel ?Submodel .\n",
    "  }\n",
    "}\n",
    "WHERE {\n",
    "  ?AAS a aas:AssetAdministrationShell ;\n",
    "    prov:wasDerivedFrom ?NodeShape .\n",
    "\n",
    "  ?NodeShape a sh:NodeShape ;\n",
    "    sh:property/sh:group? ?ShapeGroup .\n",
    "\n",
    "  ?Submodel a aas:Submodel ;\n",
    "    prov:wasDerivedFrom ?ShapeGroup .\n",
    "}\n",
    "''')"
   ]
  },
  {
   "cell_type": "markdown",
   "metadata": {},
   "source": [
    "### AssetAdministrationShellEnvironment"
   ]
  },
  {
   "cell_type": "raw",
   "metadata": {},
   "source": [
    "add_prefixes(dataset)\n",
    "\n",
    "g_aas.update('''\n",
    "INSERT {\n",
    "  <http://mas4ai.eu/def/WP4/AASEnv> a aas:AssetAdministrationShellEnvironment ;\n",
    "    aasenv:assetAdministrationShells ?AAS ;\n",
    "    aasenv:submodels ?Submodel .\n",
    "}\n",
    "WHERE {\n",
    "  ?AAS a aas:AssetAdministrationShell ;\n",
    "    aasaas:submodel ?Submodel .\n",
    "\n",
    "  ?Submodel a aas:Submodel .\n",
    "}\n",
    "''')"
   ]
  },
  {
   "cell_type": "markdown",
   "metadata": {},
   "source": [
    "## Add common statements for objects of a certain type\n",
    "(if they don't exist yet)"
   ]
  },
  {
   "cell_type": "markdown",
   "metadata": {},
   "source": [
    "### HasKind\n",
    "`aaskind:kind`"
   ]
  },
  {
   "cell_type": "code",
   "execution_count": 23,
   "metadata": {},
   "outputs": [],
   "source": [
    "g_conj.update('''\n",
    "INSERT {\n",
    "  GRAPH <http://mas4ai.eu/id/graph/aas> {\n",
    "    ?Object aaskind:kind aasmod:Template .\n",
    "  }\n",
    "}\n",
    "WHERE {\n",
    "  ?Object a/rdfs:subClassOf* aas:HasKind .\n",
    "  FILTER NOT EXISTS { ?Object aaskind:kind [] }\n",
    "}\n",
    "''')"
   ]
  },
  {
   "cell_type": "markdown",
   "metadata": {},
   "source": [
    "### Referable\n",
    "|Shapes predicate|AAS predicate|\n",
    "|---|---|\n",
    "| `rdfs:label` | `aasrefer:idShort`     |\n",
    "| `rdfs:comment` | `aasrefer:description` |\n",
    "| `skos:prefLabel` | `aasrefer:displayName` |"
   ]
  },
  {
   "cell_type": "code",
   "execution_count": 24,
   "metadata": {},
   "outputs": [],
   "source": [
    "g_conj.update('''\n",
    "INSERT {\n",
    "  GRAPH <http://mas4ai.eu/id/graph/aas> {\n",
    "    ?Object aasrefer:idShort ?idShort ;\n",
    "      aasrefer:description ?description ;\n",
    "      aasrefer:displayName ?displayName ;\n",
    "    .\n",
    "  }\n",
    "}\n",
    "WHERE {\n",
    "  ?Object a/rdfs:subClassOf* aas:Referable ;\n",
    "    prov:wasDerivedFrom ?Shape .\n",
    "\n",
    "  ?Shape rdfs:label ?shapeLabel .\n",
    "  OPTIONAL { ?Object aasrefer:idShort ?_idShort }\n",
    "  BIND ( COALESCE(?_idShort, ?shapeLabel) AS ?idShort )\n",
    "\n",
    "  OPTIONAL {\n",
    "    ?Shape rdfs:comment ?shapeComment .\n",
    "    OPTIONAL { ?Object aasrefer:description ?_description }\n",
    "    BIND ( COALESCE(?_description, ?shapeComment) AS ?description )\n",
    "  }\n",
    "\n",
    "  OPTIONAL {\n",
    "    ?Shape skos:prefLabel ?shapePrefLabel .\n",
    "    OPTIONAL { ?Object aasrefer:displayName ?_displayName }\n",
    "    BIND ( COALESCE(?_displayName, ?shapePrefLabel) AS ?displayName )\n",
    "  }\n",
    "}\n",
    "''')"
   ]
  },
  {
   "cell_type": "markdown",
   "metadata": {},
   "source": [
    "## Inspect AAS graph"
   ]
  },
  {
   "cell_type": "code",
   "execution_count": 25,
   "metadata": {},
   "outputs": [
    {
     "name": "stdout",
     "output_type": "stream",
     "text": [
      "@prefix aas: <https://admin-shell.io/aas/3/0/RC01/> .\n",
      "@prefix aasaas: <https://admin-shell.io/aas/3/0/RC01/AssetAdministrationShell/> .\n",
      "@prefix aaskey: <https://admin-shell.io/aas/3/0/RC01/Key/> .\n",
      "@prefix aaskeyt: <https://admin-shell.io/aas/3/0/RC01/KeyType/> .\n",
      "@prefix aaskind: <https://admin-shell.io/aas/3/0/RC01/HasKind/> .\n",
      "@prefix aasmod: <https://admin-shell.io/aas/3/0/RC01/ModelingKind/> .\n",
      "@prefix aasprop: <https://admin-shell.io/aas/3/0/RC01/Property/> .\n",
      "@prefix aasref: <https://admin-shell.io/aas/3/0/RC01/Reference/> .\n",
      "@prefix aasrefer: <https://admin-shell.io/aas/3/0/RC01/Referable/> .\n",
      "@prefix aassem: <https://admin-shell.io/aas/3/0/RC01/HasSemantics/> .\n",
      "@prefix aassm: <https://admin-shell.io/aas/3/0/RC01/Submodel/> .\n",
      "@prefix aassmc: <https://admin-shell.io/aas/3/0/RC01/SubmodelElementCollection/> .\n",
      "@prefix ex: <http://example.org/> .\n",
      "@prefix prov: <http://www.w3.org/ns/prov#> .\n",
      "@prefix rdf: <http://www.w3.org/1999/02/22-rdf-syntax-ns#> .\n",
      "@prefix xsd: <http://www.w3.org/2001/XMLSchema#> .\n",
      "\n",
      "<http://mas4ai.eu/id/aas/2bc1bfee-6649-496d-90aa-0f6e1daba0d7> a aas:AssetAdministrationShell ;\n",
      "    prov:wasDerivedFrom ex:ServoDCMotorShape ;\n",
      "    aasaas:submodel <http://mas4ai.eu/id/sm/25fadcef-c160-41af-9eb1-7e712cd5033c>,\n",
      "        <http://mas4ai.eu/id/sm/3ab82a4f-abf1-4cec-956c-6b5b7f8592fc>,\n",
      "        <http://mas4ai.eu/id/sm/54ffef8c-ef0b-428b-bd7b-80949194cf8b>,\n",
      "        <http://mas4ai.eu/id/sm/9fd72760-74c2-4f4e-bf1e-01f14ff48590> ;\n",
      "    aassem:semanticId [ a aas:Reference ;\n",
      "            aasref:key [ a aas:Key ;\n",
      "                    aaskey:idType aaskeyt:IRI ;\n",
      "                    aaskey:value ex:ServoDCMotor ] ] ;\n",
      "    aasrefer:idShort \"Servo DC Motor\"^^xsd:string .\n",
      "\n",
      "<http://mas4ai.eu/id/property/0d74b4f1-1ef1-4548-9ff8-314658deb951> a aas:Property ;\n",
      "    prov:wasDerivedFrom ex:SerialNumberPropertyShape ;\n",
      "    aaskind:kind aasmod:Template ;\n",
      "    aassem:semanticId [ a aas:Reference ;\n",
      "            aasref:key [ a aas:Key ;\n",
      "                    aaskey:idType aaskeyt:IRI ;\n",
      "                    aaskey:value ex:serialNumber ] ] ;\n",
      "    aasprop:valueType xsd:string ;\n",
      "    aasrefer:idShort \"SerialNumber\"^^xsd:string .\n",
      "\n",
      "<http://mas4ai.eu/id/property/14bc537e-b874-4ed3-ac7e-ebf92eaded8b> a aas:Property ;\n",
      "    prov:wasDerivedFrom ex:DocumentClassNameShape ;\n",
      "    aaskind:kind aasmod:Template ;\n",
      "    aassem:semanticId [ a aas:Reference ;\n",
      "            aasref:key [ a aas:Key ;\n",
      "                    aaskey:idType aaskeyt:IRI ;\n",
      "                    aaskey:value <file:///C:/Users/s158699/OneDrive%20-%20Semaku%20BV/Research/EU%20projects/MAS4AI/RDF%20-%20AAS%20conversion/examples/www.vdi2770.com/blatt1/Entwurf/Okt18/cd/DocumentClassification/ClassName> ] ] ;\n",
      "    aasprop:valueType rdf:langString ;\n",
      "    aasrefer:idShort \"DocumentClassName\"^^xsd:string .\n",
      "\n",
      "<http://mas4ai.eu/id/property/32444a09-3d50-4643-a11f-cbf39ecc0a59> a aas:Property ;\n",
      "    prov:wasDerivedFrom ex:TorquePropertyShape ;\n",
      "    aaskind:kind aasmod:Template ;\n",
      "    aassem:semanticId [ a aas:Reference ;\n",
      "            aasref:key [ a aas:Key ;\n",
      "                    aaskey:idType aaskeyt:IRI ;\n",
      "                    aaskey:value ex:torque ] ] ;\n",
      "    aasprop:valueType xsd:float ;\n",
      "    aasrefer:idShort \"Torque\"^^xsd:string .\n",
      "\n",
      "<http://mas4ai.eu/id/property/34b3e9d5-7939-4291-ba09-606cb7ac3ab6> a aas:Property ;\n",
      "    prov:wasDerivedFrom ex:DocumentClassificationSystemShape ;\n",
      "    aaskind:kind aasmod:Template ;\n",
      "    aassem:semanticId [ a aas:Reference ;\n",
      "            aasref:key [ a aas:Key ;\n",
      "                    aaskey:idType aaskeyt:IRI ;\n",
      "                    aaskey:value <file:///C:/Users/s158699/OneDrive%20-%20Semaku%20BV/Research/EU%20projects/MAS4AI/RDF%20-%20AAS%20conversion/examples/www.vdi2770.com/blatt1/Entwurf/Okt18/cd/DocumentClassification/ClassificationSystem> ] ] ;\n",
      "    aasprop:valueType xsd:string ;\n",
      "    aasrefer:idShort \"DocumentClassificationSystem\"^^xsd:string .\n",
      "\n",
      "<http://mas4ai.eu/id/property/391d7dc7-7462-4d13-8d38-54f075b818d1> a aas:Property ;\n",
      "    prov:wasDerivedFrom ex:DocumentClassIdShape ;\n",
      "    aaskind:kind aasmod:Template ;\n",
      "    aassem:semanticId [ a aas:Reference ;\n",
      "            aasref:key [ a aas:Key ;\n",
      "                    aaskey:idType aaskeyt:IRI ;\n",
      "                    aaskey:value <file:///C:/Users/s158699/OneDrive%20-%20Semaku%20BV/Research/EU%20projects/MAS4AI/RDF%20-%20AAS%20conversion/examples/www.vdi2770.com/blatt1/Entwurf/Okt18/cd/DocumentClassification/ClassId> ] ] ;\n",
      "    aasprop:valueType xsd:string ;\n",
      "    aasrefer:idShort \"DocumentClassId\"^^xsd:string .\n",
      "\n",
      "<http://mas4ai.eu/id/property/3ed28efe-ae14-4ac8-bc18-32ffd4d208ea> a aas:Property ;\n",
      "    prov:wasDerivedFrom ex:ProductDesignationPropertyShape ;\n",
      "    aaskind:kind aasmod:Template ;\n",
      "    aassem:semanticId [ a aas:Reference ;\n",
      "            aasref:key [ a aas:Key ;\n",
      "                    aaskey:idType aaskeyt:IRI ;\n",
      "                    aaskey:value ex:productDesignation ] ] ;\n",
      "    aasprop:valueType rdf:langString ;\n",
      "    aasrefer:idShort \"ProductDesignation\"^^xsd:string .\n",
      "\n",
      "<http://mas4ai.eu/id/property/4a356bf2-bcf6-4ac7-8d91-7e0868da1b67> a aas:Property ;\n",
      "    prov:wasDerivedFrom ex:DocumentIdShape ;\n",
      "    aaskind:kind aasmod:Template ;\n",
      "    aassem:semanticId [ a aas:Reference ;\n",
      "            aasref:key [ a aas:Key ;\n",
      "                    aaskey:idType aaskeyt:IRI ;\n",
      "                    aaskey:value <file:///C:/Users/s158699/OneDrive%20-%20Semaku%20BV/Research/EU%20projects/MAS4AI/RDF%20-%20AAS%20conversion/examples/www.vdi2770.com/blatt1/Entwurf/Okt18/cd/DocumentId/Val> ] ] ;\n",
      "    aasprop:valueType xsd:string ;\n",
      "    aasrefer:idShort \"DocumentId\"^^xsd:string .\n",
      "\n",
      "<http://mas4ai.eu/id/property/52d01639-28dd-46a6-944f-e9970bf3be0c> a aas:Property ;\n",
      "    prov:wasDerivedFrom ex:MaxRotationSpeedPropertyShape ;\n",
      "    aaskind:kind aasmod:Template ;\n",
      "    aassem:semanticId [ a aas:Reference ;\n",
      "            aasref:key [ a aas:Key ;\n",
      "                    aaskey:idType aaskeyt:IRI ;\n",
      "                    aaskey:value ex:maxRotationSpeed ] ] ;\n",
      "    aasprop:valueType xsd:integer ;\n",
      "    aasrefer:idShort \"MaxRotationSpeed\"^^xsd:string .\n",
      "\n",
      "<http://mas4ai.eu/id/property/5da5c18b-1da9-43c4-909c-57f09e1abfa3> a aas:Property ;\n",
      "    prov:wasDerivedFrom ex:OrganizationOfficialNameShape ;\n",
      "    aaskind:kind aasmod:Template ;\n",
      "    aassem:semanticId [ a aas:Reference ;\n",
      "            aasref:key [ a aas:Key ;\n",
      "                    aaskey:idType aaskeyt:IRI ;\n",
      "                    aaskey:value <file:///C:/Users/s158699/OneDrive%20-%20Semaku%20BV/Research/EU%20projects/MAS4AI/RDF%20-%20AAS%20conversion/examples/www.vdi2770.com/blatt1/Entwurf/Okt18/cd/Organization/OrganizationOfficialName> ] ] ;\n",
      "    aasprop:valueType xsd:string ;\n",
      "    aasrefer:idShort \"OrganizationOfficialName\"^^xsd:string .\n",
      "\n",
      "<http://mas4ai.eu/id/property/61db94e6-40bb-4037-98ea-040a7e3f73ca> a aas:Property ;\n",
      "    prov:wasDerivedFrom ex:RotationSpeedPropertyShape ;\n",
      "    aaskind:kind aasmod:Template ;\n",
      "    aassem:semanticId [ a aas:Reference ;\n",
      "            aasref:key [ a aas:Key ;\n",
      "                    aaskey:idType aaskeyt:IRI ;\n",
      "                    aaskey:value ex:rotationSpeed ] ] ;\n",
      "    aasprop:valueType xsd:integer ;\n",
      "    aasrefer:idShort \"RotationSpeed\"^^xsd:string .\n",
      "\n",
      "<http://mas4ai.eu/id/property/8c5647ff-7e01-4d83-9ea4-7f5397d66141> a aas:Property ;\n",
      "    prov:wasDerivedFrom ex:MaxTorquePropertyShape ;\n",
      "    aaskind:kind aasmod:Template ;\n",
      "    aassem:semanticId [ a aas:Reference ;\n",
      "            aasref:key [ a aas:Key ;\n",
      "                    aaskey:idType aaskeyt:IRI ;\n",
      "                    aaskey:value ex:maxTorque ] ] ;\n",
      "    aasprop:valueType xsd:float ;\n",
      "    aasrefer:idShort \"MaxTorque\"^^xsd:string .\n",
      "\n",
      "<http://mas4ai.eu/id/property/8d6c36d0-fb6f-4bd5-81dc-0ba27e3e836d> a aas:Property ;\n",
      "    prov:wasDerivedFrom ex:CoolingTypePropertyShape ;\n",
      "    aaskind:kind aasmod:Template ;\n",
      "    aassem:semanticId [ a aas:Reference ;\n",
      "            aasref:key [ a aas:Key ;\n",
      "                    aaskey:idType aaskeyt:IRI ;\n",
      "                    aaskey:value ex:coolingType ] ] ;\n",
      "    aasprop:valueType xsd:string ;\n",
      "    aasrefer:description \"open circuit, external cooling\"@en ;\n",
      "    aasrefer:idShort \"CoolingType\"^^xsd:string .\n",
      "\n",
      "<http://mas4ai.eu/id/property/9d229da0-0217-4645-a711-f70b552a1a64> a aas:Property ;\n",
      "    prov:wasDerivedFrom ex:OrganizationNameShape ;\n",
      "    aaskind:kind aasmod:Template ;\n",
      "    aassem:semanticId [ a aas:Reference ;\n",
      "            aasref:key [ a aas:Key ;\n",
      "                    aaskey:idType aaskeyt:IRI ;\n",
      "                    aaskey:value <file:///C:/Users/s158699/OneDrive%20-%20Semaku%20BV/Research/EU%20projects/MAS4AI/RDF%20-%20AAS%20conversion/examples/www.vdi2770.com/blatt1/Entwurf/Okt18/cd/Organization/OrganizationName> ] ] ;\n",
      "    aasprop:valueType xsd:string ;\n",
      "    aasrefer:idShort \"OrganizationName\"^^xsd:string .\n",
      "\n",
      "<http://mas4ai.eu/id/property/c5ddb2ff-b237-4394-ad28-3302a9b6ecd7> a aas:Property ;\n",
      "    prov:wasDerivedFrom ex:LanguageShape ;\n",
      "    aaskind:kind aasmod:Template ;\n",
      "    aassem:semanticId [ a aas:Reference ;\n",
      "            aasref:key [ a aas:Key ;\n",
      "                    aaskey:idType aaskeyt:IRI ;\n",
      "                    aaskey:value <file:///C:/Users/s158699/OneDrive%20-%20Semaku%20BV/Research/EU%20projects/MAS4AI/RDF%20-%20AAS%20conversion/examples/www.vdi2770.com/blatt1/Entwurf/Okt18/cd/DocumentVersion/Language> ] ] ;\n",
      "    aasprop:valueType xsd:string ;\n",
      "    aasrefer:idShort \"Language\"^^xsd:string .\n",
      "\n",
      "<http://mas4ai.eu/id/property/d12e03d1-c896-4c1a-b4b1-f0cb312e4a91> a aas:Property ;\n",
      "    prov:wasDerivedFrom ex:GLNPropertyShape ;\n",
      "    aaskind:kind aasmod:Template ;\n",
      "    aassem:semanticId [ a aas:Reference ;\n",
      "            aasref:key [ a aas:Key ;\n",
      "                    aaskey:idType aaskeyt:IRI ;\n",
      "                    aaskey:value ex:gln ] ] ;\n",
      "    aasprop:valueType xsd:integer ;\n",
      "    aasrefer:idShort \"GLN\"^^xsd:string .\n",
      "\n",
      "<http://mas4ai.eu/id/property/d904b813-8763-4718-8f17-eda5a84986ff> a aas:Property ;\n",
      "    prov:wasDerivedFrom ex:TitleShape ;\n",
      "    aaskind:kind aasmod:Template ;\n",
      "    aassem:semanticId [ a aas:Reference ;\n",
      "            aasref:key [ a aas:Key ;\n",
      "                    aaskey:idType aaskeyt:IRI ;\n",
      "                    aaskey:value <file:///C:/Users/s158699/OneDrive%20-%20Semaku%20BV/Research/EU%20projects/MAS4AI/RDF%20-%20AAS%20conversion/examples/www.vdi2770.com/blatt1/Entwurf/Okt18/cd/Description/Title> ] ] ;\n",
      "    aasprop:valueType rdf:langString ;\n",
      "    aasrefer:idShort \"Title\"^^xsd:string .\n",
      "\n",
      "<http://mas4ai.eu/id/property/e4d31a64-4b05-4ae7-9fc4-4f9c556b738d> a aas:Property ;\n",
      "    prov:wasDerivedFrom ex:ManufacturerPropertyShape ;\n",
      "    aaskind:kind aasmod:Template ;\n",
      "    aassem:semanticId [ a aas:Reference ;\n",
      "            aasref:key [ a aas:Key ;\n",
      "                    aaskey:idType aaskeyt:IRI ;\n",
      "                    aaskey:value ex:manufacturer ] ] ;\n",
      "    aasprop:valueType xsd:string ;\n",
      "    aasrefer:idShort \"Manufacturer\"^^xsd:string .\n",
      "\n",
      "<http://mas4ai.eu/id/sm/25fadcef-c160-41af-9eb1-7e712cd5033c> a aas:Submodel ;\n",
      "    prov:wasDerivedFrom ex:DocumentationGroup ;\n",
      "    aaskind:kind aasmod:Template ;\n",
      "    aasrefer:idShort \"Documentation\" ;\n",
      "    aassm:submodelElement <http://mas4ai.eu/id/smc/1c12fe15-9be8-486a-837b-84f2cdeb5ce2> .\n",
      "\n",
      "<http://mas4ai.eu/id/sm/3ab82a4f-abf1-4cec-956c-6b5b7f8592fc> a aas:Submodel ;\n",
      "    prov:wasDerivedFrom ex:TechnicalDataGroup ;\n",
      "    aaskind:kind aasmod:Template ;\n",
      "    aasrefer:idShort \"TechnicalData\" ;\n",
      "    aassm:submodelElement <http://mas4ai.eu/id/property/52d01639-28dd-46a6-944f-e9970bf3be0c>,\n",
      "        <http://mas4ai.eu/id/property/8c5647ff-7e01-4d83-9ea4-7f5397d66141>,\n",
      "        <http://mas4ai.eu/id/property/8d6c36d0-fb6f-4bd5-81dc-0ba27e3e836d> .\n",
      "\n",
      "<http://mas4ai.eu/id/sm/54ffef8c-ef0b-428b-bd7b-80949194cf8b> a aas:Submodel ;\n",
      "    prov:wasDerivedFrom ex:IdentificationGroup ;\n",
      "    aaskind:kind aasmod:Template ;\n",
      "    aasrefer:idShort \"Identification\" ;\n",
      "    aassm:submodelElement <http://mas4ai.eu/id/property/0d74b4f1-1ef1-4548-9ff8-314658deb951>,\n",
      "        <http://mas4ai.eu/id/property/3ed28efe-ae14-4ac8-bc18-32ffd4d208ea>,\n",
      "        <http://mas4ai.eu/id/property/d12e03d1-c896-4c1a-b4b1-f0cb312e4a91>,\n",
      "        <http://mas4ai.eu/id/property/e4d31a64-4b05-4ae7-9fc4-4f9c556b738d> .\n",
      "\n",
      "<http://mas4ai.eu/id/sm/9fd72760-74c2-4f4e-bf1e-01f14ff48590> a aas:Submodel ;\n",
      "    prov:wasDerivedFrom ex:OperationalDataGroup ;\n",
      "    aaskind:kind aasmod:Template ;\n",
      "    aasrefer:idShort \"OperationalData\" ;\n",
      "    aassm:submodelElement <http://mas4ai.eu/id/property/32444a09-3d50-4643-a11f-cbf39ecc0a59>,\n",
      "        <http://mas4ai.eu/id/property/61db94e6-40bb-4037-98ea-040a7e3f73ca> .\n",
      "\n",
      "<http://mas4ai.eu/id/smc/1c12fe15-9be8-486a-837b-84f2cdeb5ce2> a aas:SubmodelElementCollection ;\n",
      "    prov:wasDerivedFrom ex:OperatingManualShape ;\n",
      "    aaskind:kind aasmod:Template ;\n",
      "    aasrefer:idShort \"OperatingManual\"^^xsd:string ;\n",
      "    aassmc:value <http://mas4ai.eu/id/property/14bc537e-b874-4ed3-ac7e-ebf92eaded8b>,\n",
      "        <http://mas4ai.eu/id/property/34b3e9d5-7939-4291-ba09-606cb7ac3ab6>,\n",
      "        <http://mas4ai.eu/id/property/391d7dc7-7462-4d13-8d38-54f075b818d1>,\n",
      "        <http://mas4ai.eu/id/property/4a356bf2-bcf6-4ac7-8d91-7e0868da1b67>,\n",
      "        <http://mas4ai.eu/id/property/5da5c18b-1da9-43c4-909c-57f09e1abfa3>,\n",
      "        <http://mas4ai.eu/id/property/9d229da0-0217-4645-a711-f70b552a1a64>,\n",
      "        <http://mas4ai.eu/id/property/c5ddb2ff-b237-4394-ad28-3302a9b6ecd7>,\n",
      "        <http://mas4ai.eu/id/property/d904b813-8763-4718-8f17-eda5a84986ff> .\n",
      "\n",
      "\n"
     ]
    }
   ],
   "source": [
    "print(g_AAS.serialize())"
   ]
  },
  {
   "cell_type": "code",
   "execution_count": null,
   "metadata": {
    "scrolled": true
   },
   "outputs": [],
   "source": [
    "# Remove provenance statements\n",
    "g_AAS.update('''\n",
    "DELETE {\n",
    "  ?s prov:wasDerivedFrom ?o\n",
    "}\n",
    "WHERE {\n",
    "  ?s prov:wasDerivedFrom ?o\n",
    "}\n",
    "''')\n",
    "\n",
    "# Store to file\n",
    "g_AAS.serialize('examples/Example_ServoDCMotor.aas.ttl')\n",
    "# g_AAS.serialize('examples/Example_ServoDCMotor.aas.jsonld', format='json-ld')"
   ]
  },
  {
   "cell_type": "raw",
   "metadata": {},
   "source": [
    "sg = Graph()\n",
    "sg.parse(r'C:\\Users\\s158699\\Documents\\GitRepos\\aas-specs\\schemas\\rdf\\shacl-schema.ttl')\n",
    "\n",
    "og = Graph()\n",
    "og.parse(r'C:\\Users\\s158699\\Documents\\GitRepos\\aas-specs\\schemas\\rdf\\rdf-ontology.ttl')"
   ]
  },
  {
   "cell_type": "raw",
   "metadata": {},
   "source": [
    "r = validate(g_AAS,\n",
    "      shacl_graph=sg,\n",
    "      ont_graph=og,\n",
    "      inference='rdfs',\n",
    "      abort_on_first=False,\n",
    "      allow_warnings=False,\n",
    "      meta_shacl=False,\n",
    "      advanced=False,\n",
    "      js=False,\n",
    "      debug=False)\n",
    "conforms, results_graph, results_text = r"
   ]
  },
  {
   "cell_type": "raw",
   "metadata": {},
   "source": [
    "print(results_text)"
   ]
  }
 ],
 "metadata": {
  "kernelspec": {
   "display_name": "Python 3",
   "language": "python",
   "name": "python3"
  },
  "language_info": {
   "codemirror_mode": {
    "name": "ipython",
    "version": 3
   },
   "file_extension": ".py",
   "mimetype": "text/x-python",
   "name": "python",
   "nbconvert_exporter": "python",
   "pygments_lexer": "ipython3",
   "version": "3.8.5"
  }
 },
 "nbformat": 4,
 "nbformat_minor": 4
}
