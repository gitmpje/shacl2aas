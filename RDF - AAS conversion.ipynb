{
 "cells": [
  {
   "cell_type": "markdown",
   "metadata": {},
   "source": [
    "https://www.plattform-i40.de/IP/Redaktion/EN/Downloads/Publikation/Details_of_the_Asset_Administration_Shell_Part1_V3.html"
   ]
  },
  {
   "cell_type": "code",
   "execution_count": 1,
   "metadata": {},
   "outputs": [],
   "source": [
    "from rdflib import BNode, ConjunctiveGraph, Dataset, Graph, URIRef\n",
    "from pyshacl import validate"
   ]
  },
  {
   "cell_type": "markdown",
   "metadata": {},
   "source": [
    "# Construct AAS (template) from SHACL Shapes graph"
   ]
  },
  {
   "cell_type": "code",
   "execution_count": 2,
   "metadata": {},
   "outputs": [],
   "source": [
    "prefixes = {\n",
    "    'prov': 'http://www.w3.org/ns/prov#',\n",
    "    'skos': 'http://www.w3.org/2004/02/skos/core#',\n",
    "    'mas4ai': 'http://example.org/MAS4AI_GenericModel#',\n",
    "    'aas': 'https://admin-shell.io/aas/3/0/RC01/',\n",
    "    'aasenv': 'https://admin-shell.io/aas/3/0/RC01/AssetAdministrationShellEnvironment/',\n",
    "    'aasaas': 'https://admin-shell.io/aas/3/0/RC01/AssetAdministrationShell/',\n",
    "    'aassm': 'https://admin-shell.io/aas/3/0/RC01/Submodel/',\n",
    "    'aassmc': 'https://admin-shell.io/aas/3/0/RC01/SubmodelElementCollection/',\n",
    "    'aasrefer': 'https://admin-shell.io/aas/3/0/RC01/Referable/',\n",
    "    'aasrel': 'https://admin-shell.io/aas/3/0/RC01/RelationshipElement/',\n",
    "    'aasdata': 'https://admin-shell.io/aas/3/0/RC01/HasDataSpecification/',\n",
    "    'aasprop': 'https://admin-shell.io/aas/3/0/RC01/Property/',\n",
    "    'aasrange': 'https://admin-shell.io/aas/3/0/RC01/Range/',\n",
    "    'aassem': 'https://admin-shell.io/aas/3/0/RC01/HasSemantics/',\n",
    "    'aasref': 'https://admin-shell.io/aas/3/0/RC01/Reference/',\n",
    "    'aaskey': 'https://admin-shell.io/aas/3/0/RC01/Key/',\n",
    "    'aasida': 'https://admin-shell.io/aas/3/0/RC01/Identifiable/',\n",
    "    'aaside': 'https://admin-shell.io/aas/3/0/RC01/Identifier/',\n",
    "    'aaskeyt': 'https://admin-shell.io/aas/3/0/RC01/KeyType/',\n",
    "    'aaskind': 'https://admin-shell.io/aas/3/0/RC01/HasKind/',\n",
    "    'aasmod': 'https://admin-shell.io/aas/3/0/RC01/ModelingKind/'\n",
    "}\n",
    "\n",
    "def add_prefixes(graph):\n",
    "    for k,v in prefixes.items():\n",
    "        graph.namespace_manager.bind(k, URIRef(v))"
   ]
  },
  {
   "cell_type": "markdown",
   "metadata": {},
   "source": [
    "## Initialize data model/graph"
   ]
  },
  {
   "cell_type": "code",
   "execution_count": 3,
   "metadata": {},
   "outputs": [],
   "source": [
    "dataset = Dataset()\n",
    "\n",
    "# file_name = 'Example_ServoDCMotor'\n",
    "file_name = 'mas4aiDEMO'\n",
    "g_sh = dataset.graph(identifier=URIRef('http://mas4ai.eu/id/graph/shapes'))\n",
    "g_sh.parse(f'examples/{file_name}.shapes.ttl')\n",
    "\n",
    "g_AAS_ont = dataset.graph(identifier=URIRef('https://admin-shell.io/aas/3/0/RC01/'))\n",
    "g_AAS_ont.parse('https://raw.githubusercontent.com/admin-shell-io/aas-specs/master/schemas/rdf/rdf-ontology.ttl', format='text/turtle')\n",
    "# g_AAS_ont.parse('https://raw.githubusercontent.com/admin-shell-io/aas-specs/draft-V3RC02-schemas/schemas/rdf/rdf-ontology.ttl', format='text/turtle')\n",
    "\n",
    "g_AAS = dataset.graph(identifier=URIRef('http://mas4ai.eu/id/graph/aas'))\n",
    "\n",
    "g_conj = ConjunctiveGraph(dataset.store)"
   ]
  },
  {
   "cell_type": "markdown",
   "metadata": {},
   "source": [
    "### Enrich the shapes graph"
   ]
  },
  {
   "cell_type": "markdown",
   "metadata": {},
   "source": [
    "#### Import referenced ontologies"
   ]
  },
  {
   "cell_type": "code",
   "execution_count": 4,
   "metadata": {
    "scrolled": false
   },
   "outputs": [
    {
     "name": "stdout",
     "output_type": "stream",
     "text": [
      "Cannot import  http://datashapes.org/dash\n"
     ]
    }
   ],
   "source": [
    "for o in g_sh.objects(predicate=URIRef('http://www.w3.org/2002/07/owl#imports')):\n",
    "    try:\n",
    "        g_sh.parse(o.toPython())\n",
    "    except:\n",
    "        try:\n",
    "            g_sh.parse('examples/' + o.toPython().split('/')[-1] + '.ttl')\n",
    "        except FileNotFoundError:\n",
    "            print('Cannot import ', o.toPython())"
   ]
  },
  {
   "cell_type": "markdown",
   "metadata": {},
   "source": [
    "#### Add statements to indicate which classes should get an AAS"
   ]
  },
  {
   "cell_type": "code",
   "execution_count": 5,
   "metadata": {},
   "outputs": [],
   "source": [
    "aas_classes = [\n",
    "#     'http://example.org/ServoDCMotor',\n",
    "    'http://www.tno.nl/mas4aiDEMO#RoboticArm',\n",
    "]\n",
    "\n",
    "for c in aas_classes:\n",
    "    g_sh.add((URIRef(c), URIRef('http://example.org/MAS4AI_GenericModel#hasInterface'), BNode()))"
   ]
  },
  {
   "cell_type": "markdown",
   "metadata": {},
   "source": [
    "#### Infer sh:group relation from rdfs:subPropertyOf"
   ]
  },
  {
   "cell_type": "code",
   "execution_count": 6,
   "metadata": {},
   "outputs": [],
   "source": [
    "g_sh.update('''\n",
    "INSERT {\n",
    "  ?PropertyGroup a sh:PropertyGroup ;\n",
    "    rdfs:label ?GroupLabel .\n",
    "  ?PropertyShape sh:group ?PropertyGroup .\n",
    "}\n",
    "WHERE {\n",
    "  ?PropertyShape a sh:PropertyShape ;\n",
    "    sh:path/rdfs:subPropertyOf ?PropertyGroup .\n",
    "}\n",
    "''')"
   ]
  },
  {
   "cell_type": "markdown",
   "metadata": {},
   "source": [
    "#### Infer properties from super classes"
   ]
  },
  {
   "cell_type": "code",
   "execution_count": 7,
   "metadata": {},
   "outputs": [],
   "source": [
    "g_sh.update('''\n",
    "INSERT {\n",
    "  ?SubClass sh:property ?PropertyShape\n",
    "  #?Property rdfs:domain ?SubClass\n",
    "}\n",
    "WHERE {\n",
    "  VALUES ?PropertyType {owl:ObjectProperty owl:DatatypeProperty}\n",
    "  ?Property a ?PropertyType ;\n",
    "    rdfs:domain ?Class .\n",
    "  ?PropertyShape sh:path ?Property.\n",
    "  ?SubClass rdfs:subClassOf+ ?Class .\n",
    "}\n",
    "''')"
   ]
  },
  {
   "cell_type": "markdown",
   "metadata": {},
   "source": [
    "## Construct AAS components\n",
    "* Construct components, starting from the lowest level.\n",
    "* Add (temporary) provenance data (`prov:wasDerivedFrom`) that can be used to link the different AAS components."
   ]
  },
  {
   "cell_type": "markdown",
   "metadata": {},
   "source": [
    "### Property\n",
    "* The `sh:path` of a `sh:PropertyShape` should be mapped to the `aassem:semanticId` reference;\n",
    "* A `sh:PropertyShape` without a `sh:class` is an `aas:Property`."
   ]
  },
  {
   "cell_type": "code",
   "execution_count": 8,
   "metadata": {},
   "outputs": [
    {
     "data": {
      "text/plain": [
       "<Graph identifier=http://mas4ai.eu/id/graph/aas (<class 'rdflib.graph.Graph'>)>"
      ]
     },
     "execution_count": 8,
     "metadata": {},
     "output_type": "execute_result"
    }
   ],
   "source": [
    "add_prefixes(dataset)\n",
    "\n",
    "g_AAS.parse(data=g_sh.query('''\n",
    "CONSTRUCT {\n",
    "  # Property\n",
    "  ?Property_iri a aas:Property ;\n",
    "    aasprop:valueType ?dataType ;\n",
    "    aassem:semanticId [\n",
    "      a aas:Reference ;\n",
    "      aasref:keys [\n",
    "        a aas:Key ;\n",
    "        aaskey:idType aaskeyt:IRI ;\n",
    "        aaskey:value ?Property ;\n",
    "      ] ;\n",
    "    ] ;\n",
    "    prov:wasDerivedFrom ?PropertyShape ;\n",
    "  .\n",
    "}\n",
    "WHERE {\n",
    "  ?PropertyShape a sh:PropertyShape ;\n",
    "    sh:path ?Property ;\n",
    "    sh:datatype ?dataType ;\n",
    "  .\n",
    "\n",
    "  FILTER NOT EXISTS { ?PropertyShape sh:class ?Class } #filter out reference properties\n",
    "\n",
    "  BIND(iri(concat( \"http://mas4ai.eu/id/property/template/\", struuid() )) as ?Property_iri)\n",
    "}\n",
    "''').graph.serialize())"
   ]
  },
  {
   "cell_type": "markdown",
   "metadata": {},
   "source": [
    "### ReferenceElement\n",
    "* A `sh:PropertyShape` that has a `sh:class`, is mapped to a `aas:ReferenceElement`."
   ]
  },
  {
   "cell_type": "code",
   "execution_count": 9,
   "metadata": {},
   "outputs": [
    {
     "data": {
      "text/plain": [
       "<Graph identifier=http://mas4ai.eu/id/graph/aas (<class 'rdflib.graph.Graph'>)>"
      ]
     },
     "execution_count": 9,
     "metadata": {},
     "output_type": "execute_result"
    }
   ],
   "source": [
    "add_prefixes(dataset)\n",
    "\n",
    "g_AAS.parse(data=g_sh.query('''\n",
    "BASE <http://mas4ai.eu/id/WP4/>\n",
    "\n",
    "CONSTRUCT {\n",
    "  # Reference Element\n",
    "  ?ReferenceElement_iri a aas:ReferenceElement ;\n",
    "    aasprop:valueType ?dataType ;\n",
    "    aassem:semanticId [\n",
    "      a aas:Reference ;\n",
    "      aasref:keys [\n",
    "        a aas:Key ;\n",
    "        aaskey:idType aaskeyt:IRI ;\n",
    "        aaskey:value ?ReferenceElement ;\n",
    "      ] ;\n",
    "    ] ;\n",
    "    prov:wasDerivedFrom ?PropertyShape ;\n",
    "  .\n",
    "}\n",
    "WHERE {\n",
    "  ?PropertyShape a sh:PropertyShape ;\n",
    "    sh:path ?ReferenceElement ;\n",
    "    sh:class ?Class ; #filter on reference properties\n",
    "  .\n",
    "\n",
    "  FILTER EXISTS {?Class mas4ai:hasInterface []} #otherwise it should be a SMC\n",
    "\n",
    "  BIND(iri(concat( \"http://mas4ai.eu/id/referenceElement/template/\", struuid() )) as ?ReferenceElement_iri)\n",
    "}\n",
    "''').graph.serialize())"
   ]
  },
  {
   "cell_type": "markdown",
   "metadata": {},
   "source": [
    "### Submodel Element Collection\n",
    "* A `sh:PropertyShape` with `sh:maxCount > 1` should be embedded in an `aas:SubmodelElementCollection` (for example jobs) ;\n",
    "* A `sh:NodeShape` of which the related `sh:targetClass` does not have `mas4ai:hasInterface` should be mapped to a `aas:SubmodelElementCollection` ('PropertyCollection')."
   ]
  },
  {
   "cell_type": "markdown",
   "metadata": {},
   "source": [
    "#### 'Property Collection'"
   ]
  },
  {
   "cell_type": "code",
   "execution_count": 10,
   "metadata": {},
   "outputs": [
    {
     "data": {
      "text/plain": [
       "<Graph identifier=http://mas4ai.eu/id/graph/aas (<class 'rdflib.graph.Graph'>)>"
      ]
     },
     "execution_count": 10,
     "metadata": {},
     "output_type": "execute_result"
    }
   ],
   "source": [
    "add_prefixes(dataset)\n",
    "\n",
    "g_AAS.parse(data=g_sh.query('''\n",
    "CONSTRUCT {\n",
    "  # Submodel Element Collection (SMC)\n",
    "  ?SMC_iri a aas:SubmodelElementCollection ;\n",
    "    aassem:semanticId [\n",
    "      a aas:Reference ;\n",
    "      aasref:keys [\n",
    "        a aas:Key ;\n",
    "        aaskey:idType aaskeyt:IRI ;\n",
    "        aaskey:value ?Class ;\n",
    "      ] ;\n",
    "    ] ;\n",
    "    prov:wasDerivedFrom ?NodeShape ;\n",
    "  .\n",
    "}\n",
    "WHERE {\n",
    "  {\n",
    "    ?NodeShape a sh:NodeShape ;\n",
    "      sh:targetClass|rdfs:domain ?Class ;\n",
    "    .\n",
    "  } UNION {\n",
    "    ?NodeShape a sh:NodeShape, rdfs:Class .\n",
    "    BIND(?NodeShape as ?Class)\n",
    "  } UNION {\n",
    "    ?NodeShape a sh:NodeShape, owl:Class .\n",
    "    BIND(?NodeShape as ?Class)\n",
    "  }\n",
    "\n",
    "  ?PropertyShape sh:class ?NodeShape .\n",
    "\n",
    "  FILTER EXISTS {?NodeShape sh:property []}\n",
    "  FILTER NOT EXISTS {?Class mas4ai:hasInterface []}\n",
    "  FILTER NOT EXISTS {[] rdfs:subClassOf ?Class}\n",
    "\n",
    "  BIND(iri(concat( \"http://mas4ai.eu/id/smc/template/\", struuid() )) as ?SMC_iri)\n",
    "}\n",
    "''').graph.serialize())"
   ]
  },
  {
   "cell_type": "markdown",
   "metadata": {},
   "source": [
    "#### Cardinality >1 properties"
   ]
  },
  {
   "cell_type": "code",
   "execution_count": 11,
   "metadata": {},
   "outputs": [
    {
     "data": {
      "text/plain": [
       "<Graph identifier=http://mas4ai.eu/id/graph/aas (<class 'rdflib.graph.Graph'>)>"
      ]
     },
     "execution_count": 11,
     "metadata": {},
     "output_type": "execute_result"
    }
   ],
   "source": [
    "add_prefixes(dataset)\n",
    "\n",
    "g_AAS.parse(data=g_sh.query('''\n",
    "CONSTRUCT {\n",
    "  # Submodel Element Collection (SMC)\n",
    "  ?SMC_iri a aas:SubmodelElementCollection, mas4ai:MultiProperty ;\n",
    "    aasrefer:idShort ?SMCidShort  ;\n",
    "    aassem:semanticId [\n",
    "      a aas:Reference ;\n",
    "      aasref:keys [\n",
    "        a aas:Key ;\n",
    "        aaskey:idType aaskeyt:IRI ;\n",
    "        aaskey:value ?Property ;\n",
    "      ] ;\n",
    "    ] ;\n",
    "    prov:wasDerivedFrom ?PropertyShape ;\n",
    "  .\n",
    "}\n",
    "WHERE {\n",
    "  {\n",
    "    ?PropertyShape a sh:PropertyShape ;\n",
    "      sh:path?/rdfs:label ?propertyLabel ;\n",
    "      sh:path ?Property ;\n",
    "      sh:maxCount ?maxCount ;\n",
    "    .\n",
    "    FILTER( ?maxCount > 1 )\n",
    "  } UNION {\n",
    "    ?PropertyShape a sh:PropertyShape ;\n",
    "      sh:path?/rdfs:label ?propertyLabel ;\n",
    "      sh:path ?Property ;\n",
    "    .\n",
    "    FILTER NOT EXISTS { ?PropertyShape sh:maxCount [] } #if sh:maxCount>1 or not defined then embed the property in an ElementCollection\n",
    "  }\n",
    "\n",
    "  BIND(iri(concat( \"http://mas4ai.eu/id/smc/template/\", struuid() )) as ?SMC_iri)\n",
    "  BIND(concat(?propertyLabel, 's') as ?SMC_idShort)\n",
    "}\n",
    "''').graph.serialize())"
   ]
  },
  {
   "cell_type": "markdown",
   "metadata": {},
   "source": [
    "##### Relation between SMCs and properties + reference elements + SMCs"
   ]
  },
  {
   "cell_type": "code",
   "execution_count": 12,
   "metadata": {},
   "outputs": [],
   "source": [
    "add_prefixes(dataset)\n",
    "\n",
    "g_conj.update('''\n",
    "INSERT {\n",
    "  GRAPH <http://mas4ai.eu/id/graph/aas> {\n",
    "    ?SMC aassmc:value ?Value .\n",
    "  }\n",
    "}\n",
    "WHERE {\n",
    "  {\n",
    "    ?SMC a aas:SubmodelElementCollection ;\n",
    "      prov:wasDerivedFrom/sh:property ?PropertyShape .\n",
    "\n",
    "    ?SubmodelElementType rdfs:subClassOf+ aas:SubmodelElement .\n",
    "    ?Value a ?SubmodelElementType ;\n",
    "      prov:wasDerivedFrom ?PropertyShape .\n",
    "  } UNION {\n",
    "    ?SMC a aas:SubmodelElementCollection, mas4ai:MultiProperty ;\n",
    "      prov:wasDerivedFrom ?PropertyShape .\n",
    "    ?PropertyShape a sh:PropertyShape ;\n",
    "      sh:class?/^prov:wasDerivedFrom ?Value .\n",
    "  }\n",
    "  FILTER (?Value != ?SMC)\n",
    "}\n",
    "''')"
   ]
  },
  {
   "cell_type": "markdown",
   "metadata": {},
   "source": [
    "### Submodel\n",
    "* A `sh:PropertyGroup` is converted to an `aas:Submodel` and embeds all resources of type `sh:PropertyShape` that are linked to the `sh:PropertyGroup` via `sh:group`."
   ]
  },
  {
   "cell_type": "code",
   "execution_count": 13,
   "metadata": {},
   "outputs": [
    {
     "data": {
      "text/plain": [
       "<Graph identifier=http://mas4ai.eu/id/graph/aas (<class 'rdflib.graph.Graph'>)>"
      ]
     },
     "execution_count": 13,
     "metadata": {},
     "output_type": "execute_result"
    }
   ],
   "source": [
    "add_prefixes(dataset)\n",
    "\n",
    "g_AAS.parse(data=g_sh.query('''\n",
    "CONSTRUCT {\n",
    "  # Submodel (SM)\n",
    "  ?SM_iri a aas:Submodel ;\n",
    "    prov:wasDerivedFrom ?PropertyGroup, ?PropertyShape ;\n",
    "  .\n",
    "\n",
    "#    aasida:identification [\n",
    "#      a aas:Identifier ;\n",
    "#      aaside:idType aaskeyt:IRI ;\n",
    "#      aaside:identifier ?SM ;\n",
    "#    ]\n",
    "\n",
    "}\n",
    "WHERE {\n",
    "  {\n",
    "    ?PropertyGroup a sh:PropertyGroup .\n",
    "  } UNION {\n",
    "    ?PropertyShape a sh:PropertyShape ;\n",
    "      ^sh:property/sh:targetClass?/mas4ai:hasInterface [] ; # only properties that are directly related to a class that requires an AAS\n",
    "    .\n",
    "    FILTER NOT EXISTS {?PropertyShape sh:group []}\n",
    "  }\n",
    "\n",
    "  BIND(iri(concat( \"http://mas4ai.eu/id/sm/template/\", struuid() )) as ?SM_iri)\n",
    "}\n",
    "''').graph.serialize())"
   ]
  },
  {
   "cell_type": "markdown",
   "metadata": {},
   "source": [
    "##### Relation between submodels and properties + submodel element collections"
   ]
  },
  {
   "cell_type": "code",
   "execution_count": 14,
   "metadata": {},
   "outputs": [],
   "source": [
    "add_prefixes(dataset)\n",
    "\n",
    "g_conj.update('''\n",
    "INSERT {\n",
    "  GRAPH <http://mas4ai.eu/id/graph/aas> {\n",
    "    ?Submodel aassm:submodelElements ?SubmodelElement .\n",
    "  }\n",
    "}\n",
    "WHERE {\n",
    "  {\n",
    "    ?Submodel a aas:Submodel ;\n",
    "      prov:wasDerivedFrom/^sh:group? ?PropertyShape .\n",
    "\n",
    "    VALUES ?ElementType {aas:Property aas:SubmodelElementCollection}\n",
    "    ?SubmodelElement a ?ElementType ;\n",
    "      prov:wasDerivedFrom ?PropertyShape .\n",
    "  } UNION {\n",
    "    ?Submodel a aas:Submodel ;\n",
    "      prov:wasDerivedFrom/^sh:group? ?PropertyShape .\n",
    "\n",
    "    ?PropertyShape a sh:PropertyShape .\n",
    "    {\n",
    "      ?PropertyShape sh:class/^sh:targetClass ?NodeShape . #via SHACL\n",
    "    } UNION {\n",
    "      ?PropertyShape sh:path/(rdfs:domain|rdfs:range) ?NodeShape . #via ontology\n",
    "    }\n",
    "\n",
    "    ?SubmodelElement a aas:SubmodelElementCollection ;\n",
    "      prov:wasDerivedFrom ?NodeShape .\n",
    "\n",
    "    FILTER NOT EXISTS {?PropertyShape sh:group []}\n",
    "  }\n",
    "\n",
    "  #exclude nested submodel element collections\n",
    "  FILTER NOT EXISTS {\n",
    "    [] aassmc:value ?SubmodelElement .\n",
    "    ?SubmodelElement a aas:SubmodelElementCollection .\n",
    "  }\n",
    "}\n",
    "''')"
   ]
  },
  {
   "cell_type": "markdown",
   "metadata": {},
   "source": [
    "### AssetAdministrationShell"
   ]
  },
  {
   "cell_type": "code",
   "execution_count": 15,
   "metadata": {},
   "outputs": [
    {
     "data": {
      "text/plain": [
       "<Graph identifier=http://mas4ai.eu/id/graph/aas (<class 'rdflib.graph.Graph'>)>"
      ]
     },
     "execution_count": 15,
     "metadata": {},
     "output_type": "execute_result"
    }
   ],
   "source": [
    "add_prefixes(dataset)\n",
    "\n",
    "g_AAS.parse(data=g_sh.query('''\n",
    "CONSTRUCT {\n",
    "  # Asset Administration Shell (AAS)\n",
    "  ?AAS_iri a aas:AssetAdministrationShell ;\n",
    "    aassem:semanticId [\n",
    "      a aas:Reference ;\n",
    "      aasref:keys [\n",
    "        a aas:Key ;\n",
    "        aaskey:idType aaskeyt:IRI ;\n",
    "        aaskey:value ?AASClass ;\n",
    "      ] ;\n",
    "    ] ;\n",
    "    prov:wasDerivedFrom ?NodeShape ;\n",
    "  .\n",
    "}\n",
    "WHERE {\n",
    "  {\n",
    "    ?NodeShape a sh:NodeShape, rdfs:Class .\n",
    "    BIND(?NodeShape as ?AASClass)\n",
    "  } UNION {\n",
    "    ?NodeShape a sh:NodeShape, owl:Class .\n",
    "    BIND(?NodeShape as ?AASClass)\n",
    "  } UNION {\n",
    "    ?NodeShape a sh:NodeShape ;\n",
    "      sh:targetClass ?AASClass ;\n",
    "    .\n",
    "  }\n",
    "\n",
    "  ?AASClass mas4ai:hasInterface [] .\n",
    "\n",
    "  BIND(iri(concat( \"http://mas4ai.eu/id/aas/template/\", struuid() )) as ?AAS_iri)\n",
    "}\n",
    "''').graph.serialize())"
   ]
  },
  {
   "cell_type": "markdown",
   "metadata": {},
   "source": [
    "##### Relations between asset administration shell and submodels"
   ]
  },
  {
   "cell_type": "code",
   "execution_count": 16,
   "metadata": {},
   "outputs": [],
   "source": [
    "add_prefixes(dataset)\n",
    "\n",
    "g_conj.update('''\n",
    "INSERT {\n",
    "  GRAPH <http://mas4ai.eu/id/graph/aas> {\n",
    "    ?AAS aasaas:submodels ?Submodel .\n",
    "  }\n",
    "}\n",
    "WHERE {\n",
    "  ?AAS a aas:AssetAdministrationShell ;\n",
    "    prov:wasDerivedFrom ?NodeShape .\n",
    "\n",
    "  ?NodeShape a sh:NodeShape ;\n",
    "    rdfs:subClassOf*/sh:property/sh:group? ?ShapeGroup .\n",
    "\n",
    "  ?Submodel a aas:Submodel ;\n",
    "    prov:wasDerivedFrom ?ShapeGroup .\n",
    "}\n",
    "''')"
   ]
  },
  {
   "cell_type": "markdown",
   "metadata": {},
   "source": [
    "### AssetAdministrationShellEnvironment"
   ]
  },
  {
   "cell_type": "code",
   "execution_count": 17,
   "metadata": {},
   "outputs": [],
   "source": [
    "add_prefixes(dataset)\n",
    "\n",
    "g_AAS.update('''\n",
    "INSERT {\n",
    "  <http://mas4ai.eu/def/WP4/AASEnv> a aas:AssetAdministrationShellEnvironment ;\n",
    "    aasenv:assetAdministrationShells ?AAS ;\n",
    "    aasenv:submodels ?Submodel .\n",
    "}\n",
    "WHERE {\n",
    "  ?AAS a aas:AssetAdministrationShell ;\n",
    "    aasaas:submodel ?Submodel .\n",
    "\n",
    "  ?Submodel a aas:Submodel .\n",
    "}\n",
    "''')"
   ]
  },
  {
   "cell_type": "markdown",
   "metadata": {},
   "source": [
    "### Add common statements for objects of a certain type\n",
    "(if they don't exist yet)"
   ]
  },
  {
   "cell_type": "markdown",
   "metadata": {},
   "source": [
    "#### HasKind\n",
    "`aaskind:kind`"
   ]
  },
  {
   "cell_type": "code",
   "execution_count": 18,
   "metadata": {},
   "outputs": [],
   "source": [
    "g_conj.update('''\n",
    "INSERT {\n",
    "  GRAPH <http://mas4ai.eu/id/graph/aas> {\n",
    "    ?Object aaskind:kind aasmod:Template .\n",
    "  }\n",
    "}\n",
    "WHERE {\n",
    "  ?Object a/rdfs:subClassOf* aas:HasKind .\n",
    "  FILTER NOT EXISTS { ?Object aaskind:kind [] }\n",
    "}\n",
    "''')"
   ]
  },
  {
   "cell_type": "markdown",
   "metadata": {},
   "source": [
    "#### Referable\n",
    "|Shapes predicate|AAS predicate|\n",
    "|---|---|\n",
    "| `rdfs:label` | `aasrefer:idShort`     |\n",
    "| `rdfs:comment` | `aasrefer:description` |\n",
    "| `skos:prefLabel` | `aasrefer:displayName` |"
   ]
  },
  {
   "cell_type": "code",
   "execution_count": 19,
   "metadata": {},
   "outputs": [],
   "source": [
    "g_conj.update('''\n",
    "INSERT {\n",
    "  GRAPH <http://mas4ai.eu/id/graph/aas> {\n",
    "    ?Object aasrefer:idShort ?idShort ;\n",
    "      rdfs:label ?shapeLabel ;\n",
    "      aasrefer:description ?description ;\n",
    "      aasrefer:displayName ?displayName ;\n",
    "    .\n",
    "  }\n",
    "}\n",
    "WHERE {\n",
    "  ?Object a/rdfs:subClassOf* aas:Referable ;\n",
    "    prov:wasDerivedFrom ?Shape .\n",
    "\n",
    "  ?Shape sh:path?/rdfs:label ?shapeLabel .\n",
    "  OPTIONAL { ?Object aasrefer:idShort ?_idShort }\n",
    "  BIND ( REPLACE(COALESCE(?_idShort, ?shapeLabel), \" \", \"_\") AS ?idShort )\n",
    "\n",
    "  OPTIONAL {\n",
    "    ?Shape sh:path?/rdfs:comment ?shapeComment .\n",
    "    OPTIONAL { ?Object aasrefer:description ?_description }\n",
    "    BIND ( COALESCE(?_description, ?shapeComment) AS ?description )\n",
    "  }\n",
    "\n",
    "  OPTIONAL {\n",
    "    ?Shape sh:path?/skos:prefLabel ?shapePrefLabel .\n",
    "    OPTIONAL { ?Object aasrefer:displayName ?_displayName }\n",
    "    BIND ( COALESCE(?_displayName, ?shapePrefLabel) AS ?displayName )\n",
    "  }\n",
    "}\n",
    "''')"
   ]
  },
  {
   "cell_type": "markdown",
   "metadata": {},
   "source": [
    "## Inspect AAS graph"
   ]
  },
  {
   "cell_type": "code",
   "execution_count": 20,
   "metadata": {
    "scrolled": true
   },
   "outputs": [
    {
     "name": "stdout",
     "output_type": "stream",
     "text": [
      "@prefix aas: <https://admin-shell.io/aas/3/0/RC01/> .\n",
      "@prefix aasaas: <https://admin-shell.io/aas/3/0/RC01/AssetAdministrationShell/> .\n",
      "@prefix aaskey: <https://admin-shell.io/aas/3/0/RC01/Key/> .\n",
      "@prefix aaskeyt: <https://admin-shell.io/aas/3/0/RC01/KeyType/> .\n",
      "@prefix aaskind: <https://admin-shell.io/aas/3/0/RC01/HasKind/> .\n",
      "@prefix aasmod: <https://admin-shell.io/aas/3/0/RC01/ModelingKind/> .\n",
      "@prefix aasprop: <https://admin-shell.io/aas/3/0/RC01/Property/> .\n",
      "@prefix aasref: <https://admin-shell.io/aas/3/0/RC01/Reference/> .\n",
      "@prefix aasrefer: <https://admin-shell.io/aas/3/0/RC01/Referable/> .\n",
      "@prefix aassem: <https://admin-shell.io/aas/3/0/RC01/HasSemantics/> .\n",
      "@prefix aassm: <https://admin-shell.io/aas/3/0/RC01/Submodel/> .\n",
      "@prefix aassmc: <https://admin-shell.io/aas/3/0/RC01/SubmodelElementCollection/> .\n",
      "@prefix mas4ai: <http://example.org/MAS4AI_GenericModel#> .\n",
      "@prefix mas4aiDEMO: <http://www.tno.nl/mas4aiDEMO#> .\n",
      "@prefix prov: <http://www.w3.org/ns/prov#> .\n",
      "@prefix rdfs: <http://www.w3.org/2000/01/rdf-schema#> .\n",
      "@prefix xsd: <http://www.w3.org/2001/XMLSchema#> .\n",
      "\n",
      "<http://mas4ai.eu/id/aas/template/2cc88958-4dbc-4ea4-9d74-57adca83b466> a aas:AssetAdministrationShell ;\n",
      "    rdfs:label \"Robotic Arm\" ;\n",
      "    prov:wasDerivedFrom mas4aiDEMO:RoboticArm ;\n",
      "    aasaas:submodels <http://mas4ai.eu/id/sm/template/40b5086f-6f85-40fb-a56d-40b008268363>,\n",
      "        <http://mas4ai.eu/id/sm/template/4a49f1d0-9f27-4738-8884-eeae76d25b0c>,\n",
      "        <http://mas4ai.eu/id/sm/template/4e2bce77-a9a4-4f7a-8c4d-bc11ea9d6cc0>,\n",
      "        <http://mas4ai.eu/id/sm/template/b3abf51c-e8d5-4a53-b3b2-d75ead75f43b>,\n",
      "        <http://mas4ai.eu/id/sm/template/cf87cc2f-71a4-4703-ad1d-4a1e9ab7fdc5> ;\n",
      "    aassem:semanticId [ a aas:Reference ;\n",
      "            aasref:keys [ a aas:Key ;\n",
      "                    aaskey:idType aaskeyt:IRI ;\n",
      "                    aaskey:value mas4aiDEMO:RoboticArm ] ] ;\n",
      "    aasrefer:description \"A robot arm which can be used for a variety of different manufacturing tasks depending on the equiped tool\"@en ;\n",
      "    aasrefer:displayName \"Robotic Arm\"@en ;\n",
      "    aasrefer:idShort \"Robotic_Arm\" .\n",
      "\n",
      "<http://mas4ai.eu/id/property/template/0113a7ce-c6b4-48b8-8fe5-876b54dd19a9> a aas:Property ;\n",
      "    rdfs:label \"Has width\" ;\n",
      "    prov:wasDerivedFrom mas4aiDEMO:RoboticArm-hasWidth ;\n",
      "    aaskind:kind aasmod:Template ;\n",
      "    aassem:semanticId [ a aas:Reference ;\n",
      "            aasref:keys [ a aas:Key ;\n",
      "                    aaskey:idType aaskeyt:IRI ;\n",
      "                    aaskey:value mas4aiDEMO:hasWidth ] ] ;\n",
      "    aasprop:valueType xsd:integer ;\n",
      "    aasrefer:description \"The width of the robotic arm, expressed in cm\"@en ;\n",
      "    aasrefer:displayName \"Has width\" ;\n",
      "    aasrefer:idShort \"Has_width\" .\n",
      "\n",
      "<http://mas4ai.eu/id/property/template/4755a948-917e-4fa2-b548-930c66d4332a> a aas:Property ;\n",
      "    rdfs:label \"Has Maximum speed\" ;\n",
      "    prov:wasDerivedFrom mas4aiDEMO:Joint-hasMaxSpeed ;\n",
      "    aaskind:kind aasmod:Template ;\n",
      "    aassem:semanticId [ a aas:Reference ;\n",
      "            aasref:keys [ a aas:Key ;\n",
      "                    aaskey:idType aaskeyt:IRI ;\n",
      "                    aaskey:value mas4aiDEMO:hasMaxSpeed ] ] ;\n",
      "    aasprop:valueType xsd:decimal ;\n",
      "    aasrefer:description \"The maximum speed of rotation of a joint, expressed in degrees per second\"@en ;\n",
      "    aasrefer:displayName \"Has maximum speed\" ;\n",
      "    aasrefer:idShort \"Has_Maximum_speed\" .\n",
      "\n",
      "<http://mas4ai.eu/id/property/template/753d00d2-4e44-43b2-b30b-363273a8e48b> a aas:Property ;\n",
      "    rdfs:label \"Has version number\" ;\n",
      "    prov:wasDerivedFrom mas4aiDEMO:Software-hasVersionNumber ;\n",
      "    aaskind:kind aasmod:Template ;\n",
      "    aassem:semanticId [ a aas:Reference ;\n",
      "            aasref:keys [ a aas:Key ;\n",
      "                    aaskey:idType aaskeyt:IRI ;\n",
      "                    aaskey:value mas4aiDEMO:hasVersionNumber ] ] ;\n",
      "    aasprop:valueType xsd:integer ;\n",
      "    aasrefer:description \"The version number of a piece of software\"@en ;\n",
      "    aasrefer:displayName \"Has version number\" ;\n",
      "    aasrefer:idShort \"Has_version_number\" .\n",
      "\n",
      "<http://mas4ai.eu/id/property/template/7ae0ad53-98af-44bf-8901-2e2cae214c5c> a aas:Property ;\n",
      "    rdfs:label \"Manual location\" ;\n",
      "    prov:wasDerivedFrom mas4aiDEMO:Tool-manualLocation ;\n",
      "    aaskind:kind aasmod:Template ;\n",
      "    aassem:semanticId [ a aas:Reference ;\n",
      "            aasref:keys [ a aas:Key ;\n",
      "                    aaskey:idType aaskeyt:IRI ;\n",
      "                    aaskey:value mas4aiDEMO:manualLocation ] ] ;\n",
      "    aasprop:valueType xsd:anyURI ;\n",
      "    aasrefer:description \"The web location of the user manual associated with the used tool\"@en ;\n",
      "    aasrefer:displayName \"Manual location\" ;\n",
      "    aasrefer:idShort \"Manual_location\" .\n",
      "\n",
      "<http://mas4ai.eu/id/property/template/91b7bb8c-6362-4c69-ab36-189bd6c2943d> a aas:Property ;\n",
      "    rdfs:label \"Has depth\" ;\n",
      "    prov:wasDerivedFrom mas4aiDEMO:RoboticArm-hasDepth ;\n",
      "    aaskind:kind aasmod:Template ;\n",
      "    aassem:semanticId [ a aas:Reference ;\n",
      "            aasref:keys [ a aas:Key ;\n",
      "                    aaskey:idType aaskeyt:IRI ;\n",
      "                    aaskey:value mas4aiDEMO:hasDepth ] ] ;\n",
      "    aasprop:valueType xsd:integer ;\n",
      "    aasrefer:description \"The depth of the robotic arm in centimeters\"@en ;\n",
      "    aasrefer:displayName \"Has depth\" ;\n",
      "    aasrefer:idShort \"Has_depth\" .\n",
      "\n",
      "<http://mas4ai.eu/id/property/template/e0cfa6d1-3f63-48ec-bb1c-c15412d4e315> a aas:Property ;\n",
      "    rdfs:label \"Has range\" ;\n",
      "    prov:wasDerivedFrom mas4aiDEMO:Joint-hasRange ;\n",
      "    aaskind:kind aasmod:Template ;\n",
      "    aassem:semanticId [ a aas:Reference ;\n",
      "            aasref:keys [ a aas:Key ;\n",
      "                    aaskey:idType aaskeyt:IRI ;\n",
      "                    aaskey:value mas4aiDEMO:hasRange ] ] ;\n",
      "    aasprop:valueType xsd:decimal ;\n",
      "    aasrefer:description \"The range over which a joint can articulate, expressed in the amount of degrees between the two limits of rotation\"@en ;\n",
      "    aasrefer:displayName \"Has range\" ;\n",
      "    aasrefer:idShort \"Has_range\" .\n",
      "\n",
      "<http://mas4ai.eu/id/property/template/ece41caf-0179-4102-9cc1-4dcd2645cb24> a aas:Property ;\n",
      "    rdfs:label \"Has height\" ;\n",
      "    prov:wasDerivedFrom mas4aiDEMO:RoboticArm-hasHeight ;\n",
      "    aaskind:kind aasmod:Template ;\n",
      "    aassem:semanticId [ a aas:Reference ;\n",
      "            aasref:keys [ a aas:Key ;\n",
      "                    aaskey:idType aaskeyt:IRI ;\n",
      "                    aaskey:value mas4aiDEMO:hasHeight ] ] ;\n",
      "    aasprop:valueType xsd:integer ;\n",
      "    aasrefer:description \"The height of the robotic arm, expressed in cm\"@en ;\n",
      "    aasrefer:displayName \"Has height\" ;\n",
      "    aasrefer:idShort \"Has_height\" .\n",
      "\n",
      "<http://mas4ai.eu/id/sm/template/40b5086f-6f85-40fb-a56d-40b008268363> a aas:Submodel ;\n",
      "    rdfs:label \"Uses tool\" ;\n",
      "    prov:wasDerivedFrom mas4aiDEMO:RoboticArm-usesTool ;\n",
      "    aaskind:kind aasmod:Template ;\n",
      "    aasrefer:description \"Relates a robotic arm to the tool it is currently equiped with\"@en ;\n",
      "    aasrefer:displayName \"Uses tool\" ;\n",
      "    aasrefer:idShort \"Uses_tool\" ;\n",
      "    aassm:submodelElements <http://mas4ai.eu/id/smc/template/7a13f684-fc5e-4cd6-b13a-36e976c5de37> .\n",
      "\n",
      "<http://mas4ai.eu/id/sm/template/4a49f1d0-9f27-4738-8884-eeae76d25b0c> a aas:Submodel ;\n",
      "    rdfs:label \"Has joint\" ;\n",
      "    prov:wasDerivedFrom mas4aiDEMO:RoboticArm-hasJoint ;\n",
      "    aaskind:kind aasmod:Template ;\n",
      "    aasrefer:description \"Relating a robotic arm to its joints\"@en ;\n",
      "    aasrefer:displayName \"Has joint\" ;\n",
      "    aasrefer:idShort \"Has_joint\" ;\n",
      "    aassm:submodelElements <http://mas4ai.eu/id/smc/template/a07ffd56-f315-4b07-b6d7-07c248616ad7> .\n",
      "\n",
      "<http://mas4ai.eu/id/sm/template/4e2bce77-a9a4-4f7a-8c4d-bc11ea9d6cc0> a aas:Submodel ;\n",
      "    rdfs:label \"Controlled by\" ;\n",
      "    prov:wasDerivedFrom mas4aiDEMO:RoboticArm-ControlledBy ;\n",
      "    aaskind:kind aasmod:Template ;\n",
      "    aasrefer:description \"Relating a robotic arm to a software instruction set controlling a given arm\"@en ;\n",
      "    aasrefer:displayName \"Controlled by\" ;\n",
      "    aasrefer:idShort \"Controlled_by\" ;\n",
      "    aassm:submodelElements <http://mas4ai.eu/id/smc/template/41351e12-dbbf-4860-8bbf-f5eabd090666> .\n",
      "\n",
      "<http://mas4ai.eu/id/sm/template/b3abf51c-e8d5-4a53-b3b2-d75ead75f43b> a aas:Submodel ;\n",
      "    prov:wasDerivedFrom mas4aiDEMO:dimensionProperties ;\n",
      "    aaskind:kind aasmod:Template ;\n",
      "    aassm:submodelElements <http://mas4ai.eu/id/property/template/0113a7ce-c6b4-48b8-8fe5-876b54dd19a9>,\n",
      "        <http://mas4ai.eu/id/property/template/91b7bb8c-6362-4c69-ab36-189bd6c2943d>,\n",
      "        <http://mas4ai.eu/id/property/template/ece41caf-0179-4102-9cc1-4dcd2645cb24> .\n",
      "\n",
      "<http://mas4ai.eu/id/sm/template/cf87cc2f-71a4-4703-ad1d-4a1e9ab7fdc5> a aas:Submodel ;\n",
      "    rdfs:label \"Has weight\" ;\n",
      "    prov:wasDerivedFrom mas4aiDEMO:ManufacturingResource-hasWeight ;\n",
      "    aaskind:kind aasmod:Template ;\n",
      "    aasrefer:description \"The weight of a piece of manufacturing equipment, expressed in Kg\"@en ;\n",
      "    aasrefer:displayName \"Has weight\" ;\n",
      "    aasrefer:idShort \"Has_weight\" ;\n",
      "    aassm:submodelElements <http://mas4ai.eu/id/property/template/b43afd7e-2e6d-4a1b-a49d-e75a5be6632d> .\n",
      "\n",
      "<http://mas4ai.eu/id/smc/template/250478cf-8a9a-4743-877f-f09e2a9b52bf> a aas:SubmodelElementCollection ;\n",
      "    rdfs:label \"Tool\" ;\n",
      "    prov:wasDerivedFrom mas4aiDEMO:Tool ;\n",
      "    aaskind:kind aasmod:Template ;\n",
      "    aassem:semanticId [ a aas:Reference ;\n",
      "            aasref:keys [ a aas:Key ;\n",
      "                    aaskey:idType aaskeyt:IRI ;\n",
      "                    aaskey:value mas4aiDEMO:Tool ] ] ;\n",
      "    aasrefer:description \"A tool which may be used by a robotic arm to have it fullfill a variety of functions\"@en ;\n",
      "    aasrefer:displayName \"Tool\" ;\n",
      "    aasrefer:idShort \"Tool\" ;\n",
      "    aassmc:value <http://mas4ai.eu/id/property/template/7ae0ad53-98af-44bf-8901-2e2cae214c5c>,\n",
      "        <http://mas4ai.eu/id/property/template/b43afd7e-2e6d-4a1b-a49d-e75a5be6632d> .\n",
      "\n",
      "<http://mas4ai.eu/id/smc/template/41351e12-dbbf-4860-8bbf-f5eabd090666> a aas:SubmodelElementCollection ;\n",
      "    rdfs:label \"Software\" ;\n",
      "    prov:wasDerivedFrom mas4aiDEMO:Software ;\n",
      "    aaskind:kind aasmod:Template ;\n",
      "    aassem:semanticId [ a aas:Reference ;\n",
      "            aasref:keys [ a aas:Key ;\n",
      "                    aaskey:idType aaskeyt:IRI ;\n",
      "                    aaskey:value mas4aiDEMO:Software ] ] ;\n",
      "    aasrefer:description \"The software controlling a robotic arm\"@en ;\n",
      "    aasrefer:displayName \"Software\" ;\n",
      "    aasrefer:idShort \"Software\" ;\n",
      "    aassmc:value <http://mas4ai.eu/id/property/template/753d00d2-4e44-43b2-b30b-363273a8e48b> .\n",
      "\n",
      "<http://mas4ai.eu/id/smc/template/63219e5f-f2bf-42da-a8d2-fab8451df364> a aas:SubmodelElementCollection ;\n",
      "    rdfs:label \"Joint\" ;\n",
      "    prov:wasDerivedFrom mas4aiDEMO:Joint ;\n",
      "    aaskind:kind aasmod:Template ;\n",
      "    aassem:semanticId [ a aas:Reference ;\n",
      "            aasref:keys [ a aas:Key ;\n",
      "                    aaskey:idType aaskeyt:IRI ;\n",
      "                    aaskey:value mas4aiDEMO:Joint ] ] ;\n",
      "    aasrefer:description \"A point around which two beams articulate at a specified speed over a specified range\"@en ;\n",
      "    aasrefer:displayName \"Joint\" ;\n",
      "    aasrefer:idShort \"Joint\" ;\n",
      "    aassmc:value <http://mas4ai.eu/id/property/template/4755a948-917e-4fa2-b548-930c66d4332a>,\n",
      "        <http://mas4ai.eu/id/property/template/e0cfa6d1-3f63-48ec-bb1c-c15412d4e315> .\n",
      "\n",
      "<http://mas4ai.eu/id/smc/template/7a13f684-fc5e-4cd6-b13a-36e976c5de37> a mas4ai:MultiProperty,\n",
      "        aas:SubmodelElementCollection ;\n",
      "    rdfs:label \"Uses tool\" ;\n",
      "    prov:wasDerivedFrom mas4aiDEMO:RoboticArm-usesTool ;\n",
      "    aaskind:kind aasmod:Template ;\n",
      "    aassem:semanticId [ a aas:Reference ;\n",
      "            aasref:keys [ a aas:Key ;\n",
      "                    aaskey:idType aaskeyt:IRI ;\n",
      "                    aaskey:value mas4aiDEMO:usesTool ] ] ;\n",
      "    aasrefer:description \"Relates a robotic arm to the tool it is currently equiped with\"@en ;\n",
      "    aasrefer:displayName \"Uses tool\" ;\n",
      "    aasrefer:idShort \"Uses_tool\" ;\n",
      "    aassmc:value <http://mas4ai.eu/id/smc/template/250478cf-8a9a-4743-877f-f09e2a9b52bf> .\n",
      "\n",
      "<http://mas4ai.eu/id/smc/template/a07ffd56-f315-4b07-b6d7-07c248616ad7> a mas4ai:MultiProperty,\n",
      "        aas:SubmodelElementCollection ;\n",
      "    rdfs:label \"Has joint\" ;\n",
      "    prov:wasDerivedFrom mas4aiDEMO:RoboticArm-hasJoint ;\n",
      "    aaskind:kind aasmod:Template ;\n",
      "    aassem:semanticId [ a aas:Reference ;\n",
      "            aasref:keys [ a aas:Key ;\n",
      "                    aaskey:idType aaskeyt:IRI ;\n",
      "                    aaskey:value mas4aiDEMO:hasJoint ] ] ;\n",
      "    aasrefer:description \"Relating a robotic arm to its joints\"@en ;\n",
      "    aasrefer:displayName \"Has joint\" ;\n",
      "    aasrefer:idShort \"Has_joint\" ;\n",
      "    aassmc:value <http://mas4ai.eu/id/smc/template/63219e5f-f2bf-42da-a8d2-fab8451df364> .\n",
      "\n",
      "<http://mas4ai.eu/id/property/template/b43afd7e-2e6d-4a1b-a49d-e75a5be6632d> a aas:Property ;\n",
      "    rdfs:label \"Has weight\" ;\n",
      "    prov:wasDerivedFrom mas4aiDEMO:ManufacturingResource-hasWeight ;\n",
      "    aaskind:kind aasmod:Template ;\n",
      "    aassem:semanticId [ a aas:Reference ;\n",
      "            aasref:keys [ a aas:Key ;\n",
      "                    aaskey:idType aaskeyt:IRI ;\n",
      "                    aaskey:value mas4aiDEMO:hasWeight ] ] ;\n",
      "    aasprop:valueType xsd:integer ;\n",
      "    aasrefer:description \"The weight of a piece of manufacturing equipment, expressed in Kg\"@en ;\n",
      "    aasrefer:displayName \"Has weight\" ;\n",
      "    aasrefer:idShort \"Has_weight\" .\n",
      "\n",
      "\n"
     ]
    }
   ],
   "source": [
    "print(g_AAS.serialize())"
   ]
  },
  {
   "cell_type": "code",
   "execution_count": 21,
   "metadata": {},
   "outputs": [
    {
     "data": {
      "text/plain": [
       "<Graph identifier=http://mas4ai.eu/id/graph/aas (<class 'rdflib.graph.Graph'>)>"
      ]
     },
     "execution_count": 21,
     "metadata": {},
     "output_type": "execute_result"
    }
   ],
   "source": [
    "# Remove provenance statements\n",
    "g_AAS.update('''\n",
    "DELETE {\n",
    "  ?s prov:wasDerivedFrom ?o\n",
    "}\n",
    "WHERE {\n",
    "  ?s prov:wasDerivedFrom ?o\n",
    "}\n",
    "''')\n",
    "\n",
    "g_AAS.update('''\n",
    "DELETE {\n",
    "  ?s a mas4ai:MultiProperty\n",
    "}\n",
    "WHERE {\n",
    "  ?s a mas4ai:MultiProperty\n",
    "}\n",
    "''')\n",
    "\n",
    "# Store to file\n",
    "g_AAS.serialize(f'examples/{file_name}_template.aas.ttl')\n",
    "# g_AAS.serialize('examples/f'examples/{file_name}_template.aas.jsonld', format='json-ld')"
   ]
  },
  {
   "cell_type": "raw",
   "metadata": {},
   "source": [
    "sg = Graph()\n",
    "sg.parse(r'C:\\Users\\s158699\\Documents\\GitRepos\\aas-specs\\schemas\\rdf\\shacl-schema.ttl')\n",
    "\n",
    "og = Graph()\n",
    "og.parse(r'C:\\Users\\s158699\\Documents\\GitRepos\\aas-specs\\schemas\\rdf\\rdf-ontology.ttl')"
   ]
  },
  {
   "cell_type": "raw",
   "metadata": {},
   "source": [
    "r = validate(g_AAS,\n",
    "      shacl_graph=sg,\n",
    "      ont_graph=og,\n",
    "      inference='rdfs',\n",
    "      abort_on_first=False,\n",
    "      allow_warnings=False,\n",
    "      meta_shacl=False,\n",
    "      advanced=False,\n",
    "      js=False,\n",
    "      debug=False)\n",
    "conforms, results_graph, results_text = r"
   ]
  },
  {
   "cell_type": "raw",
   "metadata": {},
   "source": [
    "print(results_text)"
   ]
  }
 ],
 "metadata": {
  "kernelspec": {
   "display_name": "Python 3",
   "language": "python",
   "name": "python3"
  },
  "language_info": {
   "codemirror_mode": {
    "name": "ipython",
    "version": 3
   },
   "file_extension": ".py",
   "mimetype": "text/x-python",
   "name": "python",
   "nbconvert_exporter": "python",
   "pygments_lexer": "ipython3",
   "version": "3.8.5"
  }
 },
 "nbformat": 4,
 "nbformat_minor": 4
}
